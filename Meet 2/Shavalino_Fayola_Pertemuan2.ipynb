{
  "nbformat": 4,
  "nbformat_minor": 0,
  "metadata": {
    "colab": {
      "provenance": []
    },
    "kernelspec": {
      "name": "python3",
      "display_name": "Python 3"
    },
    "language_info": {
      "name": "python"
    }
  },
  "cells": [
    {
      "cell_type": "code",
      "execution_count": null,
      "metadata": {
        "id": "ya9e5kJwa1XV"
      },
      "outputs": [],
      "source": [
        "import numpy as np\n"
      ]
    },
    {
      "cell_type": "code",
      "source": [
        "a = [1,2,3]\n",
        "b = [4,5,6]\n",
        "\n",
        "hasil = a + b\n",
        "print(hasil)"
      ],
      "metadata": {
        "colab": {
          "base_uri": "https://localhost:8080/"
        },
        "id": "UuSc0xyt-HMZ",
        "outputId": "7f23dbe1-3b4b-4689-88bf-5fabee1527a1"
      },
      "execution_count": null,
      "outputs": [
        {
          "output_type": "stream",
          "name": "stdout",
          "text": [
            "[1, 2, 3, 4, 5, 6]\n"
          ]
        }
      ]
    },
    {
      "cell_type": "code",
      "source": [
        "print(sum(hasil))"
      ],
      "metadata": {
        "colab": {
          "base_uri": "https://localhost:8080/"
        },
        "id": "EezPjrUf-rR5",
        "outputId": "acd34201-ff8c-4837-c3ec-fe64a315a1f6"
      },
      "execution_count": null,
      "outputs": [
        {
          "output_type": "stream",
          "name": "stdout",
          "text": [
            "21\n"
          ]
        }
      ]
    },
    {
      "cell_type": "code",
      "source": [
        "def totallist(list1, list2):\n",
        "  total = 0\n",
        "  for i in list1:\n",
        "    total += i\n",
        "  for i in list2:\n",
        "    total += i\n",
        "    return total\n",
        "\n",
        "def totallist(list1, list2):\n",
        "    total = 0\n",
        "    for i in list1:\n",
        "        total += i\n",
        "    for i in list2:\n",
        "        total += i\n",
        "    return total\n",
        "\n"
      ],
      "metadata": {
        "id": "T6b-FIZGAPmZ"
      },
      "execution_count": null,
      "outputs": []
    },
    {
      "cell_type": "code",
      "source": [
        "totallist(a, b)"
      ],
      "metadata": {
        "colab": {
          "base_uri": "https://localhost:8080/"
        },
        "id": "o3J_pwugAV5H",
        "outputId": "c4c8980d-814c-4ded-d2be-4dbcdd0a9235"
      },
      "execution_count": null,
      "outputs": [
        {
          "output_type": "execute_result",
          "data": {
            "text/plain": [
              "21"
            ]
          },
          "metadata": {},
          "execution_count": 86
        }
      ]
    },
    {
      "cell_type": "code",
      "source": [
        "nilai_siswa = np.array([85,55,40,90])\n",
        "print(nilai_siswa[3])"
      ],
      "metadata": {
        "colab": {
          "base_uri": "https://localhost:8080/"
        },
        "id": "EB7pSHcOEnjL",
        "outputId": "846f55a9-8194-41de-ba56-853e3ca91f67"
      },
      "execution_count": null,
      "outputs": [
        {
          "output_type": "stream",
          "name": "stdout",
          "text": [
            "90\n"
          ]
        }
      ]
    },
    {
      "cell_type": "code",
      "source": [
        "nama = input('Nama Saya: 2')\n",
        "nim = input('NIM Saya: ')\n",
        "print(\"Hello, World!\")\n",
        "print(\"Nama Saya\",  nama)\n",
        "print(\"NIM Saya\", nim)"
      ],
      "metadata": {
        "colab": {
          "base_uri": "https://localhost:8080/"
        },
        "id": "kS0lXsNwFzgV",
        "outputId": "ac5c4ac6-0613-404b-d085-db8933b6fcce"
      },
      "execution_count": null,
      "outputs": [
        {
          "output_type": "stream",
          "name": "stdout",
          "text": [
            "Nama Saya: fay\n",
            "NIM Saya: 20203\n",
            "Hello, World!\n",
            "Nama Saya fay\n",
            "NIM Saya 20203\n"
          ]
        }
      ]
    },
    {
      "cell_type": "code",
      "source": [
        "def getFirst(myList):\n",
        "  return(myList[0])"
      ],
      "metadata": {
        "id": "U7Wspw49F4VJ"
      },
      "execution_count": null,
      "outputs": []
    },
    {
      "cell_type": "code",
      "source": [
        "def getLast(myList):\n",
        "  return(myList[-1])"
      ],
      "metadata": {
        "id": "je3WyYFDJ1k9"
      },
      "execution_count": null,
      "outputs": []
    },
    {
      "cell_type": "code",
      "source": [
        "  print(getFirst([1,2,3,4,5,6,7,8]))\n",
        "  getLast([1,2,3,4,5,6,7,8])"
      ],
      "metadata": {
        "colab": {
          "base_uri": "https://localhost:8080/"
        },
        "id": "IagdHZ4mKjay",
        "outputId": "99f3189d-60b7-4f27-c962-26c6bd0ee42b"
      },
      "execution_count": null,
      "outputs": [
        {
          "output_type": "stream",
          "name": "stdout",
          "text": [
            "1\n"
          ]
        },
        {
          "output_type": "execute_result",
          "data": {
            "text/plain": [
              "8"
            ]
          },
          "metadata": {},
          "execution_count": 88
        }
      ]
    },
    {
      "cell_type": "code",
      "source": [
        "def getTimes(myList):\n",
        "    times = 1\n",
        "    for item in myList:\n",
        "        times *= item\n",
        "    return times\n"
      ],
      "metadata": {
        "id": "-WKyJJVYSw2E"
      },
      "execution_count": null,
      "outputs": []
    },
    {
      "cell_type": "code",
      "source": [
        "getTimes([1,3,5,7])"
      ],
      "metadata": {
        "colab": {
          "base_uri": "https://localhost:8080/"
        },
        "id": "7-WaKFASTZb4",
        "outputId": "60dd148b-86b3-4bb4-f285-0637e0a500dc"
      },
      "execution_count": null,
      "outputs": [
        {
          "output_type": "execute_result",
          "data": {
            "text/plain": [
              "105"
            ]
          },
          "metadata": {},
          "execution_count": 96
        }
      ]
    },
    {
      "cell_type": "markdown",
      "source": [],
      "metadata": {
        "id": "sISuEZflJ1Mh"
      }
    },
    {
      "cell_type": "code",
      "source": [
        "def getlast2(list):\n",
        "    size = len(list)\n",
        "    print(f\"Size: {size}\")\n",
        "    return list[size-1]\n",
        "\n",
        "    getlast2([1,2,3,4,5,6])"
      ],
      "metadata": {
        "id": "PvImzLoKi4GQ"
      },
      "execution_count": null,
      "outputs": []
    }
  ]
}